{
 "cells": [
  {
   "cell_type": "code",
   "execution_count": 1,
   "id": "aa4b90f6",
   "metadata": {},
   "outputs": [],
   "source": [
    "#HERE STARTS THE LAB CUSTOMER ANALYSIS ROUND 2----------------------------------------------------------------------------------"
   ]
  },
  {
   "cell_type": "code",
   "execution_count": 2,
   "id": "c169c682",
   "metadata": {},
   "outputs": [],
   "source": [
    "#0\n",
    "import pandas as pd\n",
    "import numpy as np\n",
    "\n",
    "df = pd.read_csv('files_for_lab/csv_files/marketing_customer_analysis.csv', index_col=[0])"
   ]
  },
  {
   "cell_type": "code",
   "execution_count": 3,
   "id": "40e8aafc",
   "metadata": {
    "scrolled": true
   },
   "outputs": [],
   "source": [
    "#2.Standardize header names(white spaces and lower case).\n",
    "column_names = df.columns\n",
    "cols = []\n",
    "for colname in df.columns:\n",
    "    cols.append(colname.lower().replace(' ', '_'))\n",
    "\n",
    "df.columns = cols"
   ]
  },
  {
   "cell_type": "code",
   "execution_count": 4,
   "id": "c48c5f39",
   "metadata": {},
   "outputs": [],
   "source": [
    "#5.Check and deal with NaN values.\n",
    "#df = df.drop(['vehicle_type'], axis=1)\n",
    "df['state'] = df['state'].fillna('California')\n",
    "df['response'] = df['response'].fillna('No')\n",
    "df['months_since_last_claim'] = df['months_since_last_claim'].fillna(df['months_since_last_claim'].median())\n",
    "df['number_of_open_complaints'] = df['number_of_open_complaints'].fillna(df['number_of_open_complaints'].median())\n",
    "df['vehicle_class'] = df['vehicle_class'].fillna(df['vehicle_class'].mode()[0])\n",
    "df['vehicle_size'] = df['vehicle_size'].fillna(df['vehicle_size'].mode()[0])\n",
    "df['effective_to_date'] = pd.to_datetime(df['effective_to_date'], errors='coerce')"
   ]
  },
  {
   "cell_type": "code",
   "execution_count": 5,
   "id": "e43b834c",
   "metadata": {},
   "outputs": [],
   "source": [
    "#7.BONUS: Put all the previously mentioned data transformations into a function."
   ]
  },
  {
   "cell_type": "code",
   "execution_count": 6,
   "id": "82dab00f",
   "metadata": {},
   "outputs": [],
   "source": [
    "def df_cleaner(df):\n",
    "    df1 = df.copy()\n",
    "    column_names = df1.columns\n",
    "    cols = []\n",
    "    for colname in df1.columns:\n",
    "        cols.append(colname.lower())\n",
    "    df1.columns = cols\n",
    "    df1.columns = df1.columns.str.replace(' ', '_')\n",
    "    df1 = df1.drop(['vehicle_type'], axis=1)\n",
    "    df1['state'] = df1['state'].fillna('California')\n",
    "    df1['response'] = df1['response'].fillna('No')\n",
    "    df1['months_since_last_claim'] = df1['months_since_last_claim'].fillna(df1['months_since_last_claim'].median())\n",
    "    df1['number_of_open_complaints'] = df1['number_of_open_complaints'].fillna(df1['number_of_open_complaints'].median())\n",
    "    df1['vehicle_class'] = df1['vehicle_class'].fillna(df1['vehicle_class'].mode()[0])\n",
    "    df1['vehicle_size'] = df1['vehicle_size'].fillna(df1['vehicle_size'].mode()[0])\n",
    "    df1['effective_to_date'] = pd.to_datetime(df1['effective_to_date'], errors='coerce')\n",
    "    return df1"
   ]
  },
  {
   "cell_type": "code",
   "execution_count": 7,
   "id": "a246b5a7",
   "metadata": {},
   "outputs": [],
   "source": [
    "#HERE STARTS THE LAB CUSTOMER ANALYSIS ROUND 3----------------------------------------------------------------------------------"
   ]
  },
  {
   "cell_type": "code",
   "execution_count": 8,
   "id": "4908d09a",
   "metadata": {},
   "outputs": [
    {
     "data": {
      "text/html": [
       "<div>\n",
       "<style scoped>\n",
       "    .dataframe tbody tr th:only-of-type {\n",
       "        vertical-align: middle;\n",
       "    }\n",
       "\n",
       "    .dataframe tbody tr th {\n",
       "        vertical-align: top;\n",
       "    }\n",
       "\n",
       "    .dataframe thead th {\n",
       "        text-align: right;\n",
       "    }\n",
       "</style>\n",
       "<table border=\"1\" class=\"dataframe\">\n",
       "  <thead>\n",
       "    <tr style=\"text-align: right;\">\n",
       "      <th></th>\n",
       "      <th>state</th>\n",
       "      <th>customer_lifetime_value</th>\n",
       "      <th>response</th>\n",
       "      <th>coverage</th>\n",
       "      <th>education</th>\n",
       "      <th>effective_to_date</th>\n",
       "      <th>employmentstatus</th>\n",
       "      <th>gender</th>\n",
       "      <th>income</th>\n",
       "      <th>location_code</th>\n",
       "      <th>...</th>\n",
       "      <th>months_since_policy_inception</th>\n",
       "      <th>number_of_open_complaints</th>\n",
       "      <th>number_of_policies</th>\n",
       "      <th>policy_type</th>\n",
       "      <th>policy</th>\n",
       "      <th>renew_offer_type</th>\n",
       "      <th>sales_channel</th>\n",
       "      <th>total_claim_amount</th>\n",
       "      <th>vehicle_class</th>\n",
       "      <th>vehicle_size</th>\n",
       "    </tr>\n",
       "    <tr>\n",
       "      <th>Customer</th>\n",
       "      <th></th>\n",
       "      <th></th>\n",
       "      <th></th>\n",
       "      <th></th>\n",
       "      <th></th>\n",
       "      <th></th>\n",
       "      <th></th>\n",
       "      <th></th>\n",
       "      <th></th>\n",
       "      <th></th>\n",
       "      <th></th>\n",
       "      <th></th>\n",
       "      <th></th>\n",
       "      <th></th>\n",
       "      <th></th>\n",
       "      <th></th>\n",
       "      <th></th>\n",
       "      <th></th>\n",
       "      <th></th>\n",
       "      <th></th>\n",
       "      <th></th>\n",
       "    </tr>\n",
       "  </thead>\n",
       "  <tbody>\n",
       "    <tr>\n",
       "      <th>BU79786</th>\n",
       "      <td>Washington</td>\n",
       "      <td>2763.519279</td>\n",
       "      <td>No</td>\n",
       "      <td>Basic</td>\n",
       "      <td>Bachelor</td>\n",
       "      <td>2011-02-24</td>\n",
       "      <td>Employed</td>\n",
       "      <td>F</td>\n",
       "      <td>56274</td>\n",
       "      <td>Suburban</td>\n",
       "      <td>...</td>\n",
       "      <td>5</td>\n",
       "      <td>0</td>\n",
       "      <td>1</td>\n",
       "      <td>Corporate Auto</td>\n",
       "      <td>Corporate L3</td>\n",
       "      <td>Offer1</td>\n",
       "      <td>Agent</td>\n",
       "      <td>384.811147</td>\n",
       "      <td>Two-Door Car</td>\n",
       "      <td>Medsize</td>\n",
       "    </tr>\n",
       "    <tr>\n",
       "      <th>QZ44356</th>\n",
       "      <td>Arizona</td>\n",
       "      <td>6979.535903</td>\n",
       "      <td>No</td>\n",
       "      <td>Extended</td>\n",
       "      <td>Bachelor</td>\n",
       "      <td>2011-01-31</td>\n",
       "      <td>Unemployed</td>\n",
       "      <td>F</td>\n",
       "      <td>0</td>\n",
       "      <td>Suburban</td>\n",
       "      <td>...</td>\n",
       "      <td>42</td>\n",
       "      <td>0</td>\n",
       "      <td>8</td>\n",
       "      <td>Personal Auto</td>\n",
       "      <td>Personal L3</td>\n",
       "      <td>Offer3</td>\n",
       "      <td>Agent</td>\n",
       "      <td>1131.464935</td>\n",
       "      <td>Four-Door Car</td>\n",
       "      <td>Medsize</td>\n",
       "    </tr>\n",
       "    <tr>\n",
       "      <th>AI49188</th>\n",
       "      <td>Nevada</td>\n",
       "      <td>12887.431650</td>\n",
       "      <td>No</td>\n",
       "      <td>Premium</td>\n",
       "      <td>Bachelor</td>\n",
       "      <td>2011-02-19</td>\n",
       "      <td>Employed</td>\n",
       "      <td>F</td>\n",
       "      <td>48767</td>\n",
       "      <td>Suburban</td>\n",
       "      <td>...</td>\n",
       "      <td>38</td>\n",
       "      <td>0</td>\n",
       "      <td>2</td>\n",
       "      <td>Personal Auto</td>\n",
       "      <td>Personal L3</td>\n",
       "      <td>Offer1</td>\n",
       "      <td>Agent</td>\n",
       "      <td>566.472247</td>\n",
       "      <td>Two-Door Car</td>\n",
       "      <td>Medsize</td>\n",
       "    </tr>\n",
       "    <tr>\n",
       "      <th>WW63253</th>\n",
       "      <td>California</td>\n",
       "      <td>7645.861827</td>\n",
       "      <td>No</td>\n",
       "      <td>Basic</td>\n",
       "      <td>Bachelor</td>\n",
       "      <td>2011-01-20</td>\n",
       "      <td>Unemployed</td>\n",
       "      <td>M</td>\n",
       "      <td>0</td>\n",
       "      <td>Suburban</td>\n",
       "      <td>...</td>\n",
       "      <td>65</td>\n",
       "      <td>0</td>\n",
       "      <td>7</td>\n",
       "      <td>Corporate Auto</td>\n",
       "      <td>Corporate L2</td>\n",
       "      <td>Offer1</td>\n",
       "      <td>Call Center</td>\n",
       "      <td>529.881344</td>\n",
       "      <td>SUV</td>\n",
       "      <td>Medsize</td>\n",
       "    </tr>\n",
       "    <tr>\n",
       "      <th>HB64268</th>\n",
       "      <td>Washington</td>\n",
       "      <td>2813.692575</td>\n",
       "      <td>No</td>\n",
       "      <td>Basic</td>\n",
       "      <td>Bachelor</td>\n",
       "      <td>2011-02-03</td>\n",
       "      <td>Employed</td>\n",
       "      <td>M</td>\n",
       "      <td>43836</td>\n",
       "      <td>Rural</td>\n",
       "      <td>...</td>\n",
       "      <td>44</td>\n",
       "      <td>0</td>\n",
       "      <td>1</td>\n",
       "      <td>Personal Auto</td>\n",
       "      <td>Personal L1</td>\n",
       "      <td>Offer1</td>\n",
       "      <td>Agent</td>\n",
       "      <td>138.130879</td>\n",
       "      <td>Four-Door Car</td>\n",
       "      <td>Medsize</td>\n",
       "    </tr>\n",
       "    <tr>\n",
       "      <th>...</th>\n",
       "      <td>...</td>\n",
       "      <td>...</td>\n",
       "      <td>...</td>\n",
       "      <td>...</td>\n",
       "      <td>...</td>\n",
       "      <td>...</td>\n",
       "      <td>...</td>\n",
       "      <td>...</td>\n",
       "      <td>...</td>\n",
       "      <td>...</td>\n",
       "      <td>...</td>\n",
       "      <td>...</td>\n",
       "      <td>...</td>\n",
       "      <td>...</td>\n",
       "      <td>...</td>\n",
       "      <td>...</td>\n",
       "      <td>...</td>\n",
       "      <td>...</td>\n",
       "      <td>...</td>\n",
       "      <td>...</td>\n",
       "      <td>...</td>\n",
       "    </tr>\n",
       "    <tr>\n",
       "      <th>LA72316</th>\n",
       "      <td>California</td>\n",
       "      <td>23405.987980</td>\n",
       "      <td>No</td>\n",
       "      <td>Basic</td>\n",
       "      <td>Bachelor</td>\n",
       "      <td>2011-02-10</td>\n",
       "      <td>Employed</td>\n",
       "      <td>M</td>\n",
       "      <td>71941</td>\n",
       "      <td>Urban</td>\n",
       "      <td>...</td>\n",
       "      <td>89</td>\n",
       "      <td>0</td>\n",
       "      <td>2</td>\n",
       "      <td>Personal Auto</td>\n",
       "      <td>Personal L1</td>\n",
       "      <td>Offer2</td>\n",
       "      <td>Web</td>\n",
       "      <td>198.234764</td>\n",
       "      <td>Four-Door Car</td>\n",
       "      <td>Medsize</td>\n",
       "    </tr>\n",
       "    <tr>\n",
       "      <th>PK87824</th>\n",
       "      <td>California</td>\n",
       "      <td>3096.511217</td>\n",
       "      <td>Yes</td>\n",
       "      <td>Extended</td>\n",
       "      <td>College</td>\n",
       "      <td>2011-02-12</td>\n",
       "      <td>Employed</td>\n",
       "      <td>F</td>\n",
       "      <td>21604</td>\n",
       "      <td>Suburban</td>\n",
       "      <td>...</td>\n",
       "      <td>28</td>\n",
       "      <td>0</td>\n",
       "      <td>1</td>\n",
       "      <td>Corporate Auto</td>\n",
       "      <td>Corporate L3</td>\n",
       "      <td>Offer1</td>\n",
       "      <td>Branch</td>\n",
       "      <td>379.200000</td>\n",
       "      <td>Four-Door Car</td>\n",
       "      <td>Medsize</td>\n",
       "    </tr>\n",
       "    <tr>\n",
       "      <th>TD14365</th>\n",
       "      <td>California</td>\n",
       "      <td>8163.890428</td>\n",
       "      <td>No</td>\n",
       "      <td>Extended</td>\n",
       "      <td>Bachelor</td>\n",
       "      <td>2011-02-06</td>\n",
       "      <td>Unemployed</td>\n",
       "      <td>M</td>\n",
       "      <td>0</td>\n",
       "      <td>Suburban</td>\n",
       "      <td>...</td>\n",
       "      <td>37</td>\n",
       "      <td>3</td>\n",
       "      <td>2</td>\n",
       "      <td>Corporate Auto</td>\n",
       "      <td>Corporate L2</td>\n",
       "      <td>Offer1</td>\n",
       "      <td>Branch</td>\n",
       "      <td>790.784983</td>\n",
       "      <td>Four-Door Car</td>\n",
       "      <td>Medsize</td>\n",
       "    </tr>\n",
       "    <tr>\n",
       "      <th>UP19263</th>\n",
       "      <td>California</td>\n",
       "      <td>7524.442436</td>\n",
       "      <td>No</td>\n",
       "      <td>Extended</td>\n",
       "      <td>College</td>\n",
       "      <td>2011-02-03</td>\n",
       "      <td>Employed</td>\n",
       "      <td>M</td>\n",
       "      <td>21941</td>\n",
       "      <td>Suburban</td>\n",
       "      <td>...</td>\n",
       "      <td>3</td>\n",
       "      <td>0</td>\n",
       "      <td>3</td>\n",
       "      <td>Personal Auto</td>\n",
       "      <td>Personal L2</td>\n",
       "      <td>Offer3</td>\n",
       "      <td>Branch</td>\n",
       "      <td>691.200000</td>\n",
       "      <td>Four-Door Car</td>\n",
       "      <td>Large</td>\n",
       "    </tr>\n",
       "    <tr>\n",
       "      <th>Y167826</th>\n",
       "      <td>California</td>\n",
       "      <td>2611.836866</td>\n",
       "      <td>No</td>\n",
       "      <td>Extended</td>\n",
       "      <td>College</td>\n",
       "      <td>2011-02-14</td>\n",
       "      <td>Unemployed</td>\n",
       "      <td>M</td>\n",
       "      <td>0</td>\n",
       "      <td>Suburban</td>\n",
       "      <td>...</td>\n",
       "      <td>90</td>\n",
       "      <td>0</td>\n",
       "      <td>1</td>\n",
       "      <td>Corporate Auto</td>\n",
       "      <td>Corporate L3</td>\n",
       "      <td>Offer4</td>\n",
       "      <td>Call Center</td>\n",
       "      <td>369.600000</td>\n",
       "      <td>Two-Door Car</td>\n",
       "      <td>Medsize</td>\n",
       "    </tr>\n",
       "  </tbody>\n",
       "</table>\n",
       "<p>9134 rows × 23 columns</p>\n",
       "</div>"
      ],
      "text/plain": [
       "               state  customer_lifetime_value response  coverage education  \\\n",
       "Customer                                                                     \n",
       "BU79786   Washington              2763.519279       No     Basic  Bachelor   \n",
       "QZ44356      Arizona              6979.535903       No  Extended  Bachelor   \n",
       "AI49188       Nevada             12887.431650       No   Premium  Bachelor   \n",
       "WW63253   California              7645.861827       No     Basic  Bachelor   \n",
       "HB64268   Washington              2813.692575       No     Basic  Bachelor   \n",
       "...              ...                      ...      ...       ...       ...   \n",
       "LA72316   California             23405.987980       No     Basic  Bachelor   \n",
       "PK87824   California              3096.511217      Yes  Extended   College   \n",
       "TD14365   California              8163.890428       No  Extended  Bachelor   \n",
       "UP19263   California              7524.442436       No  Extended   College   \n",
       "Y167826   California              2611.836866       No  Extended   College   \n",
       "\n",
       "         effective_to_date employmentstatus gender  income location_code  ...  \\\n",
       "Customer                                                                  ...   \n",
       "BU79786         2011-02-24         Employed      F   56274      Suburban  ...   \n",
       "QZ44356         2011-01-31       Unemployed      F       0      Suburban  ...   \n",
       "AI49188         2011-02-19         Employed      F   48767      Suburban  ...   \n",
       "WW63253         2011-01-20       Unemployed      M       0      Suburban  ...   \n",
       "HB64268         2011-02-03         Employed      M   43836         Rural  ...   \n",
       "...                    ...              ...    ...     ...           ...  ...   \n",
       "LA72316         2011-02-10         Employed      M   71941         Urban  ...   \n",
       "PK87824         2011-02-12         Employed      F   21604      Suburban  ...   \n",
       "TD14365         2011-02-06       Unemployed      M       0      Suburban  ...   \n",
       "UP19263         2011-02-03         Employed      M   21941      Suburban  ...   \n",
       "Y167826         2011-02-14       Unemployed      M       0      Suburban  ...   \n",
       "\n",
       "         months_since_policy_inception  number_of_open_complaints  \\\n",
       "Customer                                                            \n",
       "BU79786                              5                          0   \n",
       "QZ44356                             42                          0   \n",
       "AI49188                             38                          0   \n",
       "WW63253                             65                          0   \n",
       "HB64268                             44                          0   \n",
       "...                                ...                        ...   \n",
       "LA72316                             89                          0   \n",
       "PK87824                             28                          0   \n",
       "TD14365                             37                          3   \n",
       "UP19263                              3                          0   \n",
       "Y167826                             90                          0   \n",
       "\n",
       "          number_of_policies     policy_type        policy  renew_offer_type  \\\n",
       "Customer                                                                       \n",
       "BU79786                    1  Corporate Auto  Corporate L3            Offer1   \n",
       "QZ44356                    8   Personal Auto   Personal L3            Offer3   \n",
       "AI49188                    2   Personal Auto   Personal L3            Offer1   \n",
       "WW63253                    7  Corporate Auto  Corporate L2            Offer1   \n",
       "HB64268                    1   Personal Auto   Personal L1            Offer1   \n",
       "...                      ...             ...           ...               ...   \n",
       "LA72316                    2   Personal Auto   Personal L1            Offer2   \n",
       "PK87824                    1  Corporate Auto  Corporate L3            Offer1   \n",
       "TD14365                    2  Corporate Auto  Corporate L2            Offer1   \n",
       "UP19263                    3   Personal Auto   Personal L2            Offer3   \n",
       "Y167826                    1  Corporate Auto  Corporate L3            Offer4   \n",
       "\n",
       "         sales_channel total_claim_amount  vehicle_class vehicle_size  \n",
       "Customer                                                               \n",
       "BU79786          Agent         384.811147   Two-Door Car      Medsize  \n",
       "QZ44356          Agent        1131.464935  Four-Door Car      Medsize  \n",
       "AI49188          Agent         566.472247   Two-Door Car      Medsize  \n",
       "WW63253    Call Center         529.881344            SUV      Medsize  \n",
       "HB64268          Agent         138.130879  Four-Door Car      Medsize  \n",
       "...                ...                ...            ...          ...  \n",
       "LA72316            Web         198.234764  Four-Door Car      Medsize  \n",
       "PK87824         Branch         379.200000  Four-Door Car      Medsize  \n",
       "TD14365         Branch         790.784983  Four-Door Car      Medsize  \n",
       "UP19263         Branch         691.200000  Four-Door Car        Large  \n",
       "Y167826    Call Center         369.600000   Two-Door Car      Medsize  \n",
       "\n",
       "[9134 rows x 23 columns]"
      ]
     },
     "metadata": {},
     "output_type": "display_data"
    },
    {
     "name": "stdout",
     "output_type": "stream",
     "text": [
      "<class 'pandas.core.frame.DataFrame'>\n",
      "Index: 9134 entries, BU79786 to Y167826\n",
      "Data columns (total 23 columns):\n",
      " #   Column                         Non-Null Count  Dtype         \n",
      "---  ------                         --------------  -----         \n",
      " 0   state                          9134 non-null   object        \n",
      " 1   customer_lifetime_value        9134 non-null   float64       \n",
      " 2   response                       9134 non-null   object        \n",
      " 3   coverage                       9134 non-null   object        \n",
      " 4   education                      9134 non-null   object        \n",
      " 5   effective_to_date              9134 non-null   datetime64[ns]\n",
      " 6   employmentstatus               9134 non-null   object        \n",
      " 7   gender                         9134 non-null   object        \n",
      " 8   income                         9134 non-null   int64         \n",
      " 9   location_code                  9134 non-null   object        \n",
      " 10  marital_status                 9134 non-null   object        \n",
      " 11  monthly_premium_auto           9134 non-null   int64         \n",
      " 12  months_since_last_claim        9134 non-null   int64         \n",
      " 13  months_since_policy_inception  9134 non-null   int64         \n",
      " 14  number_of_open_complaints      9134 non-null   int64         \n",
      " 15  number_of_policies             9134 non-null   int64         \n",
      " 16  policy_type                    9134 non-null   object        \n",
      " 17  policy                         9134 non-null   object        \n",
      " 18  renew_offer_type               9134 non-null   object        \n",
      " 19  sales_channel                  9134 non-null   object        \n",
      " 20  total_claim_amount             9134 non-null   float64       \n",
      " 21  vehicle_class                  9134 non-null   object        \n",
      " 22  vehicle_size                   9134 non-null   object        \n",
      "dtypes: datetime64[ns](1), float64(2), int64(6), object(14)\n",
      "memory usage: 1.7+ MB\n"
     ]
    },
    {
     "data": {
      "text/plain": [
       "state                            0\n",
       "customer_lifetime_value          0\n",
       "response                         0\n",
       "coverage                         0\n",
       "education                        0\n",
       "effective_to_date                0\n",
       "employmentstatus                 0\n",
       "gender                           0\n",
       "income                           0\n",
       "location_code                    0\n",
       "marital_status                   0\n",
       "monthly_premium_auto             0\n",
       "months_since_last_claim          0\n",
       "months_since_policy_inception    0\n",
       "number_of_open_complaints        0\n",
       "number_of_policies               0\n",
       "policy_type                      0\n",
       "policy                           0\n",
       "renew_offer_type                 0\n",
       "sales_channel                    0\n",
       "total_claim_amount               0\n",
       "vehicle_class                    0\n",
       "vehicle_size                     0\n",
       "dtype: int64"
      ]
     },
     "execution_count": 8,
     "metadata": {},
     "output_type": "execute_result"
    }
   ],
   "source": [
    "display(df)\n",
    "#1.Show DataFrame info.\n",
    "df.info()\n",
    "df.isna().sum()"
   ]
  },
  {
   "cell_type": "code",
   "execution_count": 9,
   "id": "b4be50fc",
   "metadata": {},
   "outputs": [
    {
     "data": {
      "text/html": [
       "<div>\n",
       "<style scoped>\n",
       "    .dataframe tbody tr th:only-of-type {\n",
       "        vertical-align: middle;\n",
       "    }\n",
       "\n",
       "    .dataframe tbody tr th {\n",
       "        vertical-align: top;\n",
       "    }\n",
       "\n",
       "    .dataframe thead th {\n",
       "        text-align: right;\n",
       "    }\n",
       "</style>\n",
       "<table border=\"1\" class=\"dataframe\">\n",
       "  <thead>\n",
       "    <tr style=\"text-align: right;\">\n",
       "      <th></th>\n",
       "      <th>customer_lifetime_value</th>\n",
       "      <th>income</th>\n",
       "      <th>monthly_premium_auto</th>\n",
       "      <th>months_since_last_claim</th>\n",
       "      <th>months_since_policy_inception</th>\n",
       "      <th>number_of_open_complaints</th>\n",
       "      <th>number_of_policies</th>\n",
       "      <th>total_claim_amount</th>\n",
       "    </tr>\n",
       "  </thead>\n",
       "  <tbody>\n",
       "    <tr>\n",
       "      <th>count</th>\n",
       "      <td>9134.000000</td>\n",
       "      <td>9134.000000</td>\n",
       "      <td>9134.000000</td>\n",
       "      <td>9134.000000</td>\n",
       "      <td>9134.000000</td>\n",
       "      <td>9134.000000</td>\n",
       "      <td>9134.000000</td>\n",
       "      <td>9134.000000</td>\n",
       "    </tr>\n",
       "    <tr>\n",
       "      <th>mean</th>\n",
       "      <td>8004.940475</td>\n",
       "      <td>37657.380009</td>\n",
       "      <td>93.219291</td>\n",
       "      <td>15.097000</td>\n",
       "      <td>48.064594</td>\n",
       "      <td>0.384388</td>\n",
       "      <td>2.966170</td>\n",
       "      <td>434.088794</td>\n",
       "    </tr>\n",
       "    <tr>\n",
       "      <th>std</th>\n",
       "      <td>6870.967608</td>\n",
       "      <td>30379.904734</td>\n",
       "      <td>34.407967</td>\n",
       "      <td>10.073257</td>\n",
       "      <td>27.905991</td>\n",
       "      <td>0.910384</td>\n",
       "      <td>2.390182</td>\n",
       "      <td>290.500092</td>\n",
       "    </tr>\n",
       "    <tr>\n",
       "      <th>min</th>\n",
       "      <td>1898.007675</td>\n",
       "      <td>0.000000</td>\n",
       "      <td>61.000000</td>\n",
       "      <td>0.000000</td>\n",
       "      <td>0.000000</td>\n",
       "      <td>0.000000</td>\n",
       "      <td>1.000000</td>\n",
       "      <td>0.099007</td>\n",
       "    </tr>\n",
       "    <tr>\n",
       "      <th>25%</th>\n",
       "      <td>3994.251794</td>\n",
       "      <td>0.000000</td>\n",
       "      <td>68.000000</td>\n",
       "      <td>6.000000</td>\n",
       "      <td>24.000000</td>\n",
       "      <td>0.000000</td>\n",
       "      <td>1.000000</td>\n",
       "      <td>272.258244</td>\n",
       "    </tr>\n",
       "    <tr>\n",
       "      <th>50%</th>\n",
       "      <td>5780.182197</td>\n",
       "      <td>33889.500000</td>\n",
       "      <td>83.000000</td>\n",
       "      <td>14.000000</td>\n",
       "      <td>48.000000</td>\n",
       "      <td>0.000000</td>\n",
       "      <td>2.000000</td>\n",
       "      <td>383.945434</td>\n",
       "    </tr>\n",
       "    <tr>\n",
       "      <th>75%</th>\n",
       "      <td>8962.167041</td>\n",
       "      <td>62320.000000</td>\n",
       "      <td>109.000000</td>\n",
       "      <td>23.000000</td>\n",
       "      <td>71.000000</td>\n",
       "      <td>0.000000</td>\n",
       "      <td>4.000000</td>\n",
       "      <td>547.514839</td>\n",
       "    </tr>\n",
       "    <tr>\n",
       "      <th>max</th>\n",
       "      <td>83325.381190</td>\n",
       "      <td>99981.000000</td>\n",
       "      <td>298.000000</td>\n",
       "      <td>35.000000</td>\n",
       "      <td>99.000000</td>\n",
       "      <td>5.000000</td>\n",
       "      <td>9.000000</td>\n",
       "      <td>2893.239678</td>\n",
       "    </tr>\n",
       "  </tbody>\n",
       "</table>\n",
       "</div>"
      ],
      "text/plain": [
       "       customer_lifetime_value        income  monthly_premium_auto  \\\n",
       "count              9134.000000   9134.000000           9134.000000   \n",
       "mean               8004.940475  37657.380009             93.219291   \n",
       "std                6870.967608  30379.904734             34.407967   \n",
       "min                1898.007675      0.000000             61.000000   \n",
       "25%                3994.251794      0.000000             68.000000   \n",
       "50%                5780.182197  33889.500000             83.000000   \n",
       "75%                8962.167041  62320.000000            109.000000   \n",
       "max               83325.381190  99981.000000            298.000000   \n",
       "\n",
       "       months_since_last_claim  months_since_policy_inception  \\\n",
       "count              9134.000000                    9134.000000   \n",
       "mean                 15.097000                      48.064594   \n",
       "std                  10.073257                      27.905991   \n",
       "min                   0.000000                       0.000000   \n",
       "25%                   6.000000                      24.000000   \n",
       "50%                  14.000000                      48.000000   \n",
       "75%                  23.000000                      71.000000   \n",
       "max                  35.000000                      99.000000   \n",
       "\n",
       "       number_of_open_complaints  number_of_policies  total_claim_amount  \n",
       "count                9134.000000         9134.000000         9134.000000  \n",
       "mean                    0.384388            2.966170          434.088794  \n",
       "std                     0.910384            2.390182          290.500092  \n",
       "min                     0.000000            1.000000            0.099007  \n",
       "25%                     0.000000            1.000000          272.258244  \n",
       "50%                     0.000000            2.000000          383.945434  \n",
       "75%                     0.000000            4.000000          547.514839  \n",
       "max                     5.000000            9.000000         2893.239678  "
      ]
     },
     "execution_count": 9,
     "metadata": {},
     "output_type": "execute_result"
    }
   ],
   "source": [
    "import matplotlib.pyplot as plt\n",
    "%matplotlib inline \n",
    "import seaborn as sns\n",
    "#2.Describe DataFrame.\n",
    "df.describe()"
   ]
  },
  {
   "cell_type": "code",
   "execution_count": 10,
   "id": "9ca101fa",
   "metadata": {
    "scrolled": true
   },
   "outputs": [
    {
     "data": {
      "image/png": "[encoded data removed]",
      "text/plain": [
       "<Figure size 640x480 with 1 Axes>"
      ]
     },
     "metadata": {},
     "output_type": "display_data"
    }
   ],
   "source": [
    "#3.Show a plot of the total number of responses.\n",
    "sns.barplot(x=df.response.value_counts().index, y=df.response.value_counts())\n",
    "plt.show()"
   ]
  },
  {
   "cell_type": "code",
   "execution_count": 11,
   "id": "46551fab",
   "metadata": {},
   "outputs": [
    {
     "data": {
      "image/png": "[encoded data removed]",
      "text/plain": [
       "<Figure size 640x480 with 1 Axes>"
      ]
     },
     "metadata": {},
     "output_type": "display_data"
    }
   ],
   "source": [
    "#4.Show a plot of the response rate by the sales channel.\n",
    "sns.histplot(x = df['sales_channel'], hue=df['response'], multiple=\"dodge\", shrink = 0.8, stat = 'percent', common_norm=False)\n",
    "plt.show()"
   ]
  },
  {
   "cell_type": "code",
   "execution_count": 12,
   "id": "fdc7f85e",
   "metadata": {},
   "outputs": [
    {
     "data": {
      "image/png": "[encoded data removed]",
      "text/plain": [
       "<Figure size 2000x500 with 1 Axes>"
      ]
     },
     "metadata": {},
     "output_type": "display_data"
    }
   ],
   "source": [
    "#5.Show a plot of the response rate by the total claim amount.\n",
    "fig, ax = plt.subplots(figsize=(20,5))\n",
    "sns.histplot(x = df['total_claim_amount'], hue=df['response'], multiple=\"dodge\", shrink = 0.8, stat = 'percent', common_norm=False)\n",
    "plt.show()"
   ]
  },
  {
   "cell_type": "code",
   "execution_count": 13,
   "id": "f6fc209c",
   "metadata": {},
   "outputs": [
    {
     "data": {
      "image/png": "[encoded data removed]",
      "text/plain": [
       "<Figure size 640x480 with 1 Axes>"
      ]
     },
     "metadata": {},
     "output_type": "display_data"
    }
   ],
   "source": [
    "#6.Show a plot of the response rate by income.\n",
    "\n",
    "sns.histplot(x = df['income'], hue=df['response'], multiple=\"dodge\", shrink = 0.8, stat = 'percent', common_norm=False)\n",
    "plt.show()"
   ]
  },
  {
   "cell_type": "code",
   "execution_count": 14,
   "id": "c69333a9",
   "metadata": {},
   "outputs": [],
   "source": [
    "#HERE STARTS THE LAB CUSTOMER ANALYSIS ROUND 4----------------------------------------------------------------------------------"
   ]
  },
  {
   "cell_type": "code",
   "execution_count": 15,
   "id": "55a55fcb",
   "metadata": {},
   "outputs": [],
   "source": [
    "#Check the data types of the columns. Get the numeric data into dataframe called numerical and categorical columns\n",
    "#in a dataframe called categoricals. (You can use np.number and np.object to select the numerical data types and categorical\n",
    "#data types respectively)"
   ]
  },
  {
   "cell_type": "code",
   "execution_count": 16,
   "id": "f75fc55a",
   "metadata": {},
   "outputs": [
    {
     "name": "stdout",
     "output_type": "stream",
     "text": [
      "<class 'pandas.core.frame.DataFrame'>\n",
      "Index: 9134 entries, BU79786 to Y167826\n",
      "Data columns (total 23 columns):\n",
      " #   Column                         Non-Null Count  Dtype         \n",
      "---  ------                         --------------  -----         \n",
      " 0   state                          9134 non-null   object        \n",
      " 1   customer_lifetime_value        9134 non-null   float64       \n",
      " 2   response                       9134 non-null   object        \n",
      " 3   coverage                       9134 non-null   object        \n",
      " 4   education                      9134 non-null   object        \n",
      " 5   effective_to_date              9134 non-null   datetime64[ns]\n",
      " 6   employmentstatus               9134 non-null   object        \n",
      " 7   gender                         9134 non-null   object        \n",
      " 8   income                         9134 non-null   int64         \n",
      " 9   location_code                  9134 non-null   object        \n",
      " 10  marital_status                 9134 non-null   object        \n",
      " 11  monthly_premium_auto           9134 non-null   int64         \n",
      " 12  months_since_last_claim        9134 non-null   int64         \n",
      " 13  months_since_policy_inception  9134 non-null   int64         \n",
      " 14  number_of_open_complaints      9134 non-null   int64         \n",
      " 15  number_of_policies             9134 non-null   int64         \n",
      " 16  policy_type                    9134 non-null   object        \n",
      " 17  policy                         9134 non-null   object        \n",
      " 18  renew_offer_type               9134 non-null   object        \n",
      " 19  sales_channel                  9134 non-null   object        \n",
      " 20  total_claim_amount             9134 non-null   float64       \n",
      " 21  vehicle_class                  9134 non-null   object        \n",
      " 22  vehicle_size                   9134 non-null   object        \n",
      "dtypes: datetime64[ns](1), float64(2), int64(6), object(14)\n",
      "memory usage: 1.9+ MB\n"
     ]
    }
   ],
   "source": [
    "df.info()"
   ]
  },
  {
   "cell_type": "code",
   "execution_count": 17,
   "id": "0fbbe531",
   "metadata": {},
   "outputs": [
    {
     "data": {
      "text/html": [
       "<div>\n",
       "<style scoped>\n",
       "    .dataframe tbody tr th:only-of-type {\n",
       "        vertical-align: middle;\n",
       "    }\n",
       "\n",
       "    .dataframe tbody tr th {\n",
       "        vertical-align: top;\n",
       "    }\n",
       "\n",
       "    .dataframe thead th {\n",
       "        text-align: right;\n",
       "    }\n",
       "</style>\n",
       "<table border=\"1\" class=\"dataframe\">\n",
       "  <thead>\n",
       "    <tr style=\"text-align: right;\">\n",
       "      <th></th>\n",
       "      <th>customer_lifetime_value</th>\n",
       "      <th>income</th>\n",
       "      <th>monthly_premium_auto</th>\n",
       "      <th>months_since_last_claim</th>\n",
       "      <th>months_since_policy_inception</th>\n",
       "      <th>number_of_open_complaints</th>\n",
       "      <th>number_of_policies</th>\n",
       "      <th>total_claim_amount</th>\n",
       "    </tr>\n",
       "    <tr>\n",
       "      <th>Customer</th>\n",
       "      <th></th>\n",
       "      <th></th>\n",
       "      <th></th>\n",
       "      <th></th>\n",
       "      <th></th>\n",
       "      <th></th>\n",
       "      <th></th>\n",
       "      <th></th>\n",
       "    </tr>\n",
       "  </thead>\n",
       "  <tbody>\n",
       "    <tr>\n",
       "      <th>BU79786</th>\n",
       "      <td>2763.519279</td>\n",
       "      <td>56274</td>\n",
       "      <td>69</td>\n",
       "      <td>32</td>\n",
       "      <td>5</td>\n",
       "      <td>0</td>\n",
       "      <td>1</td>\n",
       "      <td>384.811147</td>\n",
       "    </tr>\n",
       "    <tr>\n",
       "      <th>QZ44356</th>\n",
       "      <td>6979.535903</td>\n",
       "      <td>0</td>\n",
       "      <td>94</td>\n",
       "      <td>13</td>\n",
       "      <td>42</td>\n",
       "      <td>0</td>\n",
       "      <td>8</td>\n",
       "      <td>1131.464935</td>\n",
       "    </tr>\n",
       "    <tr>\n",
       "      <th>AI49188</th>\n",
       "      <td>12887.431650</td>\n",
       "      <td>48767</td>\n",
       "      <td>108</td>\n",
       "      <td>18</td>\n",
       "      <td>38</td>\n",
       "      <td>0</td>\n",
       "      <td>2</td>\n",
       "      <td>566.472247</td>\n",
       "    </tr>\n",
       "    <tr>\n",
       "      <th>WW63253</th>\n",
       "      <td>7645.861827</td>\n",
       "      <td>0</td>\n",
       "      <td>106</td>\n",
       "      <td>18</td>\n",
       "      <td>65</td>\n",
       "      <td>0</td>\n",
       "      <td>7</td>\n",
       "      <td>529.881344</td>\n",
       "    </tr>\n",
       "    <tr>\n",
       "      <th>HB64268</th>\n",
       "      <td>2813.692575</td>\n",
       "      <td>43836</td>\n",
       "      <td>73</td>\n",
       "      <td>12</td>\n",
       "      <td>44</td>\n",
       "      <td>0</td>\n",
       "      <td>1</td>\n",
       "      <td>138.130879</td>\n",
       "    </tr>\n",
       "  </tbody>\n",
       "</table>\n",
       "</div>"
      ],
      "text/plain": [
       "          customer_lifetime_value  income  monthly_premium_auto  \\\n",
       "Customer                                                          \n",
       "BU79786               2763.519279   56274                    69   \n",
       "QZ44356               6979.535903       0                    94   \n",
       "AI49188              12887.431650   48767                   108   \n",
       "WW63253               7645.861827       0                   106   \n",
       "HB64268               2813.692575   43836                    73   \n",
       "\n",
       "          months_since_last_claim  months_since_policy_inception  \\\n",
       "Customer                                                           \n",
       "BU79786                        32                              5   \n",
       "QZ44356                        13                             42   \n",
       "AI49188                        18                             38   \n",
       "WW63253                        18                             65   \n",
       "HB64268                        12                             44   \n",
       "\n",
       "          number_of_open_complaints  number_of_policies  total_claim_amount  \n",
       "Customer                                                                     \n",
       "BU79786                           0                   1          384.811147  \n",
       "QZ44356                           0                   8         1131.464935  \n",
       "AI49188                           0                   2          566.472247  \n",
       "WW63253                           0                   7          529.881344  \n",
       "HB64268                           0                   1          138.130879  "
      ]
     },
     "execution_count": 17,
     "metadata": {},
     "output_type": "execute_result"
    }
   ],
   "source": [
    "numerical = df._get_numeric_data() \n",
    "numerical.head()"
   ]
  },
  {
   "cell_type": "code",
   "execution_count": 18,
   "id": "5d64d716",
   "metadata": {},
   "outputs": [
    {
     "data": {
      "text/html": [
       "<div>\n",
       "<style scoped>\n",
       "    .dataframe tbody tr th:only-of-type {\n",
       "        vertical-align: middle;\n",
       "    }\n",
       "\n",
       "    .dataframe tbody tr th {\n",
       "        vertical-align: top;\n",
       "    }\n",
       "\n",
       "    .dataframe thead th {\n",
       "        text-align: right;\n",
       "    }\n",
       "</style>\n",
       "<table border=\"1\" class=\"dataframe\">\n",
       "  <thead>\n",
       "    <tr style=\"text-align: right;\">\n",
       "      <th></th>\n",
       "      <th>state</th>\n",
       "      <th>response</th>\n",
       "      <th>coverage</th>\n",
       "      <th>education</th>\n",
       "      <th>employmentstatus</th>\n",
       "      <th>gender</th>\n",
       "      <th>location_code</th>\n",
       "      <th>marital_status</th>\n",
       "      <th>policy_type</th>\n",
       "      <th>policy</th>\n",
       "      <th>renew_offer_type</th>\n",
       "      <th>sales_channel</th>\n",
       "      <th>vehicle_class</th>\n",
       "      <th>vehicle_size</th>\n",
       "    </tr>\n",
       "    <tr>\n",
       "      <th>Customer</th>\n",
       "      <th></th>\n",
       "      <th></th>\n",
       "      <th></th>\n",
       "      <th></th>\n",
       "      <th></th>\n",
       "      <th></th>\n",
       "      <th></th>\n",
       "      <th></th>\n",
       "      <th></th>\n",
       "      <th></th>\n",
       "      <th></th>\n",
       "      <th></th>\n",
       "      <th></th>\n",
       "      <th></th>\n",
       "    </tr>\n",
       "  </thead>\n",
       "  <tbody>\n",
       "    <tr>\n",
       "      <th>BU79786</th>\n",
       "      <td>Washington</td>\n",
       "      <td>No</td>\n",
       "      <td>Basic</td>\n",
       "      <td>Bachelor</td>\n",
       "      <td>Employed</td>\n",
       "      <td>F</td>\n",
       "      <td>Suburban</td>\n",
       "      <td>Married</td>\n",
       "      <td>Corporate Auto</td>\n",
       "      <td>Corporate L3</td>\n",
       "      <td>Offer1</td>\n",
       "      <td>Agent</td>\n",
       "      <td>Two-Door Car</td>\n",
       "      <td>Medsize</td>\n",
       "    </tr>\n",
       "    <tr>\n",
       "      <th>QZ44356</th>\n",
       "      <td>Arizona</td>\n",
       "      <td>No</td>\n",
       "      <td>Extended</td>\n",
       "      <td>Bachelor</td>\n",
       "      <td>Unemployed</td>\n",
       "      <td>F</td>\n",
       "      <td>Suburban</td>\n",
       "      <td>Single</td>\n",
       "      <td>Personal Auto</td>\n",
       "      <td>Personal L3</td>\n",
       "      <td>Offer3</td>\n",
       "      <td>Agent</td>\n",
       "      <td>Four-Door Car</td>\n",
       "      <td>Medsize</td>\n",
       "    </tr>\n",
       "    <tr>\n",
       "      <th>AI49188</th>\n",
       "      <td>Nevada</td>\n",
       "      <td>No</td>\n",
       "      <td>Premium</td>\n",
       "      <td>Bachelor</td>\n",
       "      <td>Employed</td>\n",
       "      <td>F</td>\n",
       "      <td>Suburban</td>\n",
       "      <td>Married</td>\n",
       "      <td>Personal Auto</td>\n",
       "      <td>Personal L3</td>\n",
       "      <td>Offer1</td>\n",
       "      <td>Agent</td>\n",
       "      <td>Two-Door Car</td>\n",
       "      <td>Medsize</td>\n",
       "    </tr>\n",
       "    <tr>\n",
       "      <th>WW63253</th>\n",
       "      <td>California</td>\n",
       "      <td>No</td>\n",
       "      <td>Basic</td>\n",
       "      <td>Bachelor</td>\n",
       "      <td>Unemployed</td>\n",
       "      <td>M</td>\n",
       "      <td>Suburban</td>\n",
       "      <td>Married</td>\n",
       "      <td>Corporate Auto</td>\n",
       "      <td>Corporate L2</td>\n",
       "      <td>Offer1</td>\n",
       "      <td>Call Center</td>\n",
       "      <td>SUV</td>\n",
       "      <td>Medsize</td>\n",
       "    </tr>\n",
       "    <tr>\n",
       "      <th>HB64268</th>\n",
       "      <td>Washington</td>\n",
       "      <td>No</td>\n",
       "      <td>Basic</td>\n",
       "      <td>Bachelor</td>\n",
       "      <td>Employed</td>\n",
       "      <td>M</td>\n",
       "      <td>Rural</td>\n",
       "      <td>Single</td>\n",
       "      <td>Personal Auto</td>\n",
       "      <td>Personal L1</td>\n",
       "      <td>Offer1</td>\n",
       "      <td>Agent</td>\n",
       "      <td>Four-Door Car</td>\n",
       "      <td>Medsize</td>\n",
       "    </tr>\n",
       "  </tbody>\n",
       "</table>\n",
       "</div>"
      ],
      "text/plain": [
       "               state response  coverage education employmentstatus gender  \\\n",
       "Customer                                                                    \n",
       "BU79786   Washington       No     Basic  Bachelor         Employed      F   \n",
       "QZ44356      Arizona       No  Extended  Bachelor       Unemployed      F   \n",
       "AI49188       Nevada       No   Premium  Bachelor         Employed      F   \n",
       "WW63253   California       No     Basic  Bachelor       Unemployed      M   \n",
       "HB64268   Washington       No     Basic  Bachelor         Employed      M   \n",
       "\n",
       "         location_code marital_status     policy_type        policy  \\\n",
       "Customer                                                              \n",
       "BU79786       Suburban        Married  Corporate Auto  Corporate L3   \n",
       "QZ44356       Suburban         Single   Personal Auto   Personal L3   \n",
       "AI49188       Suburban        Married   Personal Auto   Personal L3   \n",
       "WW63253       Suburban        Married  Corporate Auto  Corporate L2   \n",
       "HB64268          Rural         Single   Personal Auto   Personal L1   \n",
       "\n",
       "         renew_offer_type sales_channel  vehicle_class vehicle_size  \n",
       "Customer                                                             \n",
       "BU79786            Offer1         Agent   Two-Door Car      Medsize  \n",
       "QZ44356            Offer3         Agent  Four-Door Car      Medsize  \n",
       "AI49188            Offer1         Agent   Two-Door Car      Medsize  \n",
       "WW63253            Offer1   Call Center            SUV      Medsize  \n",
       "HB64268            Offer1         Agent  Four-Door Car      Medsize  "
      ]
     },
     "execution_count": 18,
     "metadata": {},
     "output_type": "execute_result"
    }
   ],
   "source": [
    "categoricals = df.select_dtypes('object')\n",
    "categoricals.head()"
   ]
  },
  {
   "cell_type": "code",
   "execution_count": 19,
   "id": "3f7dd829",
   "metadata": {},
   "outputs": [
    {
     "data": {
      "image/png": "[encoded data removed]",
      "text/plain": [
       "<Figure size 1500x1500 with 8 Axes>"
      ]
     },
     "metadata": {},
     "output_type": "display_data"
    }
   ],
   "source": [
    "#Now we will try to check the normality of the numerical variables visually\n",
    "#Use seaborn library to construct distribution plots for the numerical variables\n",
    "fig, ax = plt.subplots(4,2, figsize=(15,15))\n",
    "sns.histplot(x='customer_lifetime_value', data=df, ax = ax[0][0]) #bins=50\n",
    "sns.histplot(x='income', data=df, ax = ax[0][1])\n",
    "sns.histplot(x='monthly_premium_auto', data=df, ax = ax[1][0])\n",
    "sns.histplot(x='months_since_last_claim', data=df, ax = ax[1][1])\n",
    "sns.histplot(x='months_since_policy_inception', data=df, ax = ax[2][0])\n",
    "sns.histplot(x='number_of_open_complaints', data=df, ax = ax[2][1])\n",
    "sns.histplot(x='number_of_policies', data=df, ax = ax[3][0])\n",
    "sns.histplot(x='total_claim_amount', data=df, ax = ax[3][1])\n",
    "plt.show()"
   ]
  },
  {
   "cell_type": "code",
   "execution_count": 20,
   "id": "34bc13f7",
   "metadata": {},
   "outputs": [
    {
     "data": {
      "image/png": "[encoded data removed]",
      "text/plain": [
       "<Figure size 1500x1500 with 8 Axes>"
      ]
     },
     "metadata": {},
     "output_type": "display_data"
    }
   ],
   "source": [
    "#Use Matplotlib to construct histograms\n",
    "fig, ax = plt.subplots(4,2, figsize=(15,15))\n",
    "ax[0,0].hist('customer_lifetime_value', data=df)\n",
    "ax[0,0].set_title('Customer lifetime value')\n",
    "ax[0,1].hist('income', data=df)\n",
    "ax[0,1].set_title('Income')\n",
    "ax[1,0].hist('monthly_premium_auto', data=df)\n",
    "ax[1,0].set_title('Monthly premium auto')\n",
    "ax[1,1].hist('months_since_last_claim', data=df)\n",
    "ax[1,1].set_title('Months since last claim')\n",
    "ax[2,0].hist('months_since_policy_inception', data=df)\n",
    "ax[2,0].set_title('Months since policy inception')\n",
    "ax[2,1].hist('number_of_open_complaints', data=df)\n",
    "ax[2,1].set_title('Number of open complaints')\n",
    "ax[3,0].hist('number_of_policies', data=df)\n",
    "ax[3,0].set_title('Number of policies')\n",
    "ax[3,1].hist('total_claim_amount', data=df)\n",
    "ax[3,1].set_title('Total claim amount')\n",
    "\n",
    "plt.tight_layout()\n",
    "plt.show()"
   ]
  },
  {
   "cell_type": "code",
   "execution_count": 21,
   "id": "8fc7f8ee",
   "metadata": {},
   "outputs": [],
   "source": [
    "#Do the distributions for different numerical variables look like a normal distribution?\n",
    "#Answer: None of them shows a normal distibution, mostly left skewed or continuous uniform distribution among others."
   ]
  },
  {
   "cell_type": "code",
   "execution_count": 22,
   "id": "97489833",
   "metadata": {},
   "outputs": [],
   "source": [
    "#For the numerical variables, check the multicollinearity between the features. Please note that we will use the column\n",
    "#total_claim_amount later as the target variable."
   ]
  },
  {
   "cell_type": "code",
   "execution_count": 23,
   "id": "adc90cca",
   "metadata": {},
   "outputs": [
    {
     "data": {
      "text/html": [
       "<div>\n",
       "<style scoped>\n",
       "    .dataframe tbody tr th:only-of-type {\n",
       "        vertical-align: middle;\n",
       "    }\n",
       "\n",
       "    .dataframe tbody tr th {\n",
       "        vertical-align: top;\n",
       "    }\n",
       "\n",
       "    .dataframe thead th {\n",
       "        text-align: right;\n",
       "    }\n",
       "</style>\n",
       "<table border=\"1\" class=\"dataframe\">\n",
       "  <thead>\n",
       "    <tr style=\"text-align: right;\">\n",
       "      <th></th>\n",
       "      <th>customer_lifetime_value</th>\n",
       "      <th>income</th>\n",
       "      <th>monthly_premium_auto</th>\n",
       "      <th>months_since_last_claim</th>\n",
       "      <th>months_since_policy_inception</th>\n",
       "      <th>number_of_open_complaints</th>\n",
       "      <th>number_of_policies</th>\n",
       "      <th>total_claim_amount</th>\n",
       "    </tr>\n",
       "  </thead>\n",
       "  <tbody>\n",
       "    <tr>\n",
       "      <th>customer_lifetime_value</th>\n",
       "      <td>1.000000</td>\n",
       "      <td>0.024366</td>\n",
       "      <td>0.396262</td>\n",
       "      <td>0.011517</td>\n",
       "      <td>0.009418</td>\n",
       "      <td>-0.036343</td>\n",
       "      <td>0.021955</td>\n",
       "      <td>0.226451</td>\n",
       "    </tr>\n",
       "    <tr>\n",
       "      <th>income</th>\n",
       "      <td>0.024366</td>\n",
       "      <td>1.000000</td>\n",
       "      <td>-0.016665</td>\n",
       "      <td>-0.026715</td>\n",
       "      <td>-0.000875</td>\n",
       "      <td>0.006408</td>\n",
       "      <td>-0.008656</td>\n",
       "      <td>-0.355254</td>\n",
       "    </tr>\n",
       "    <tr>\n",
       "      <th>monthly_premium_auto</th>\n",
       "      <td>0.396262</td>\n",
       "      <td>-0.016665</td>\n",
       "      <td>1.000000</td>\n",
       "      <td>0.005026</td>\n",
       "      <td>0.020257</td>\n",
       "      <td>-0.013122</td>\n",
       "      <td>-0.011233</td>\n",
       "      <td>0.632017</td>\n",
       "    </tr>\n",
       "    <tr>\n",
       "      <th>months_since_last_claim</th>\n",
       "      <td>0.011517</td>\n",
       "      <td>-0.026715</td>\n",
       "      <td>0.005026</td>\n",
       "      <td>1.000000</td>\n",
       "      <td>-0.042959</td>\n",
       "      <td>0.005354</td>\n",
       "      <td>0.009136</td>\n",
       "      <td>0.007563</td>\n",
       "    </tr>\n",
       "    <tr>\n",
       "      <th>months_since_policy_inception</th>\n",
       "      <td>0.009418</td>\n",
       "      <td>-0.000875</td>\n",
       "      <td>0.020257</td>\n",
       "      <td>-0.042959</td>\n",
       "      <td>1.000000</td>\n",
       "      <td>-0.001158</td>\n",
       "      <td>-0.013333</td>\n",
       "      <td>0.003335</td>\n",
       "    </tr>\n",
       "    <tr>\n",
       "      <th>number_of_open_complaints</th>\n",
       "      <td>-0.036343</td>\n",
       "      <td>0.006408</td>\n",
       "      <td>-0.013122</td>\n",
       "      <td>0.005354</td>\n",
       "      <td>-0.001158</td>\n",
       "      <td>1.000000</td>\n",
       "      <td>0.001498</td>\n",
       "      <td>-0.014241</td>\n",
       "    </tr>\n",
       "    <tr>\n",
       "      <th>number_of_policies</th>\n",
       "      <td>0.021955</td>\n",
       "      <td>-0.008656</td>\n",
       "      <td>-0.011233</td>\n",
       "      <td>0.009136</td>\n",
       "      <td>-0.013333</td>\n",
       "      <td>0.001498</td>\n",
       "      <td>1.000000</td>\n",
       "      <td>-0.002354</td>\n",
       "    </tr>\n",
       "    <tr>\n",
       "      <th>total_claim_amount</th>\n",
       "      <td>0.226451</td>\n",
       "      <td>-0.355254</td>\n",
       "      <td>0.632017</td>\n",
       "      <td>0.007563</td>\n",
       "      <td>0.003335</td>\n",
       "      <td>-0.014241</td>\n",
       "      <td>-0.002354</td>\n",
       "      <td>1.000000</td>\n",
       "    </tr>\n",
       "  </tbody>\n",
       "</table>\n",
       "</div>"
      ],
      "text/plain": [
       "                               customer_lifetime_value    income  \\\n",
       "customer_lifetime_value                       1.000000  0.024366   \n",
       "income                                        0.024366  1.000000   \n",
       "monthly_premium_auto                          0.396262 -0.016665   \n",
       "months_since_last_claim                       0.011517 -0.026715   \n",
       "months_since_policy_inception                 0.009418 -0.000875   \n",
       "number_of_open_complaints                    -0.036343  0.006408   \n",
       "number_of_policies                            0.021955 -0.008656   \n",
       "total_claim_amount                            0.226451 -0.355254   \n",
       "\n",
       "                               monthly_premium_auto  months_since_last_claim  \\\n",
       "customer_lifetime_value                    0.396262                 0.011517   \n",
       "income                                    -0.016665                -0.026715   \n",
       "monthly_premium_auto                       1.000000                 0.005026   \n",
       "months_since_last_claim                    0.005026                 1.000000   \n",
       "months_since_policy_inception              0.020257                -0.042959   \n",
       "number_of_open_complaints                 -0.013122                 0.005354   \n",
       "number_of_policies                        -0.011233                 0.009136   \n",
       "total_claim_amount                         0.632017                 0.007563   \n",
       "\n",
       "                               months_since_policy_inception  \\\n",
       "customer_lifetime_value                             0.009418   \n",
       "income                                             -0.000875   \n",
       "monthly_premium_auto                                0.020257   \n",
       "months_since_last_claim                            -0.042959   \n",
       "months_since_policy_inception                       1.000000   \n",
       "number_of_open_complaints                          -0.001158   \n",
       "number_of_policies                                 -0.013333   \n",
       "total_claim_amount                                  0.003335   \n",
       "\n",
       "                               number_of_open_complaints  number_of_policies  \\\n",
       "customer_lifetime_value                        -0.036343            0.021955   \n",
       "income                                          0.006408           -0.008656   \n",
       "monthly_premium_auto                           -0.013122           -0.011233   \n",
       "months_since_last_claim                         0.005354            0.009136   \n",
       "months_since_policy_inception                  -0.001158           -0.013333   \n",
       "number_of_open_complaints                       1.000000            0.001498   \n",
       "number_of_policies                              0.001498            1.000000   \n",
       "total_claim_amount                             -0.014241           -0.002354   \n",
       "\n",
       "                               total_claim_amount  \n",
       "customer_lifetime_value                  0.226451  \n",
       "income                                  -0.355254  \n",
       "monthly_premium_auto                     0.632017  \n",
       "months_since_last_claim                  0.007563  \n",
       "months_since_policy_inception            0.003335  \n",
       "number_of_open_complaints               -0.014241  \n",
       "number_of_policies                      -0.002354  \n",
       "total_claim_amount                       1.000000  "
      ]
     },
     "execution_count": 23,
     "metadata": {},
     "output_type": "execute_result"
    }
   ],
   "source": [
    "df.corr()"
   ]
  },
  {
   "cell_type": "code",
   "execution_count": 24,
   "id": "ea222ccb",
   "metadata": {},
   "outputs": [
    {
     "data": {
      "text/html": [
       "<div>\n",
       "<style scoped>\n",
       "    .dataframe tbody tr th:only-of-type {\n",
       "        vertical-align: middle;\n",
       "    }\n",
       "\n",
       "    .dataframe tbody tr th {\n",
       "        vertical-align: top;\n",
       "    }\n",
       "\n",
       "    .dataframe thead th {\n",
       "        text-align: right;\n",
       "    }\n",
       "</style>\n",
       "<table border=\"1\" class=\"dataframe\">\n",
       "  <thead>\n",
       "    <tr style=\"text-align: right;\">\n",
       "      <th></th>\n",
       "      <th>customer_lifetime_value</th>\n",
       "      <th>income</th>\n",
       "      <th>monthly_premium_auto</th>\n",
       "      <th>total_claim_amount</th>\n",
       "    </tr>\n",
       "  </thead>\n",
       "  <tbody>\n",
       "    <tr>\n",
       "      <th>customer_lifetime_value</th>\n",
       "      <td>1.000000</td>\n",
       "      <td>0.024366</td>\n",
       "      <td>0.396262</td>\n",
       "      <td>0.226451</td>\n",
       "    </tr>\n",
       "    <tr>\n",
       "      <th>income</th>\n",
       "      <td>0.024366</td>\n",
       "      <td>1.000000</td>\n",
       "      <td>-0.016665</td>\n",
       "      <td>-0.355254</td>\n",
       "    </tr>\n",
       "    <tr>\n",
       "      <th>monthly_premium_auto</th>\n",
       "      <td>0.396262</td>\n",
       "      <td>-0.016665</td>\n",
       "      <td>1.000000</td>\n",
       "      <td>0.632017</td>\n",
       "    </tr>\n",
       "    <tr>\n",
       "      <th>total_claim_amount</th>\n",
       "      <td>0.226451</td>\n",
       "      <td>-0.355254</td>\n",
       "      <td>0.632017</td>\n",
       "      <td>1.000000</td>\n",
       "    </tr>\n",
       "  </tbody>\n",
       "</table>\n",
       "</div>"
      ],
      "text/plain": [
       "                         customer_lifetime_value    income  \\\n",
       "customer_lifetime_value                 1.000000  0.024366   \n",
       "income                                  0.024366  1.000000   \n",
       "monthly_premium_auto                    0.396262 -0.016665   \n",
       "total_claim_amount                      0.226451 -0.355254   \n",
       "\n",
       "                         monthly_premium_auto  total_claim_amount  \n",
       "customer_lifetime_value              0.396262            0.226451  \n",
       "income                              -0.016665           -0.355254  \n",
       "monthly_premium_auto                 1.000000            0.632017  \n",
       "total_claim_amount                   0.632017            1.000000  "
      ]
     },
     "execution_count": 24,
     "metadata": {},
     "output_type": "execute_result"
    }
   ],
   "source": [
    "#I have picked the columns with bigger correlation twith total claim amount (which is the target varible to predict)\n",
    "df[['customer_lifetime_value','income', 'monthly_premium_auto', 'total_claim_amount']].corr().T"
   ]
  },
  {
   "cell_type": "code",
   "execution_count": 25,
   "id": "f5c35783",
   "metadata": {},
   "outputs": [],
   "source": [
    "#Drop one of the two features that show a high correlation between them (greater than 0.9). \n",
    "#Write code for both the correlation matrix and for seaborn heatmap. If there is no pair of features that have a high\n",
    "#correlation, then do not drop any features"
   ]
  },
  {
   "cell_type": "code",
   "execution_count": 26,
   "id": "0ead4942",
   "metadata": {},
   "outputs": [
    {
     "data": {
      "text/html": [
       "<div>\n",
       "<style scoped>\n",
       "    .dataframe tbody tr th:only-of-type {\n",
       "        vertical-align: middle;\n",
       "    }\n",
       "\n",
       "    .dataframe tbody tr th {\n",
       "        vertical-align: top;\n",
       "    }\n",
       "\n",
       "    .dataframe thead th {\n",
       "        text-align: right;\n",
       "    }\n",
       "</style>\n",
       "<table border=\"1\" class=\"dataframe\">\n",
       "  <thead>\n",
       "    <tr style=\"text-align: right;\">\n",
       "      <th></th>\n",
       "      <th>customer_lifetime_value</th>\n",
       "      <th>income</th>\n",
       "      <th>monthly_premium_auto</th>\n",
       "      <th>total_claim_amount</th>\n",
       "    </tr>\n",
       "  </thead>\n",
       "  <tbody>\n",
       "    <tr>\n",
       "      <th>customer_lifetime_value</th>\n",
       "      <td>1.000000</td>\n",
       "      <td>0.024366</td>\n",
       "      <td>0.396262</td>\n",
       "      <td>0.226451</td>\n",
       "    </tr>\n",
       "    <tr>\n",
       "      <th>income</th>\n",
       "      <td>0.024366</td>\n",
       "      <td>1.000000</td>\n",
       "      <td>-0.016665</td>\n",
       "      <td>-0.355254</td>\n",
       "    </tr>\n",
       "    <tr>\n",
       "      <th>monthly_premium_auto</th>\n",
       "      <td>0.396262</td>\n",
       "      <td>-0.016665</td>\n",
       "      <td>1.000000</td>\n",
       "      <td>0.632017</td>\n",
       "    </tr>\n",
       "    <tr>\n",
       "      <th>total_claim_amount</th>\n",
       "      <td>0.226451</td>\n",
       "      <td>-0.355254</td>\n",
       "      <td>0.632017</td>\n",
       "      <td>1.000000</td>\n",
       "    </tr>\n",
       "  </tbody>\n",
       "</table>\n",
       "</div>"
      ],
      "text/plain": [
       "                         customer_lifetime_value    income  \\\n",
       "customer_lifetime_value                 1.000000  0.024366   \n",
       "income                                  0.024366  1.000000   \n",
       "monthly_premium_auto                    0.396262 -0.016665   \n",
       "total_claim_amount                      0.226451 -0.355254   \n",
       "\n",
       "                         monthly_premium_auto  total_claim_amount  \n",
       "customer_lifetime_value              0.396262            0.226451  \n",
       "income                              -0.016665           -0.355254  \n",
       "monthly_premium_auto                 1.000000            0.632017  \n",
       "total_claim_amount                   0.632017            1.000000  "
      ]
     },
     "execution_count": 26,
     "metadata": {},
     "output_type": "execute_result"
    }
   ],
   "source": [
    "corr_matrix_filt = df[['customer_lifetime_value','income', 'monthly_premium_auto', 'total_claim_amount']].corr()\n",
    "corr_matrix_filt"
   ]
  },
  {
   "cell_type": "code",
   "execution_count": 27,
   "id": "982ba924",
   "metadata": {},
   "outputs": [
    {
     "data": {
      "image/png": "[encoded data removed]",
      "text/plain": [
       "<Figure size 640x480 with 2 Axes>"
      ]
     },
     "metadata": {},
     "output_type": "display_data"
    }
   ],
   "source": [
    "sns.heatmap(corr_matrix_filt, annot=True)\n",
    "plt.show()"
   ]
  },
  {
   "cell_type": "code",
   "execution_count": 28,
   "id": "75a1966a",
   "metadata": {},
   "outputs": [],
   "source": [
    "#we will not have to drop any variable because there are not 2 variables with a correlation bigger than 0.9"
   ]
  },
  {
   "cell_type": "code",
   "execution_count": 29,
   "id": "b5d8a959",
   "metadata": {},
   "outputs": [],
   "source": [
    "#HERE STARTS THE LAB CUSTOMER ANALYSIS ROUND 5----------------------------------------------------------------------------------"
   ]
  },
  {
   "cell_type": "code",
   "execution_count": 30,
   "id": "7229d0ce",
   "metadata": {},
   "outputs": [],
   "source": [
    "#X-y split (we want to predict total_claim_amount).\n",
    "from sklearn.linear_model import LinearRegression\n",
    "from sklearn.model_selection import train_test_split\n",
    "reduced_df = df[['customer_lifetime_value','income', 'monthly_premium_auto', 'total_claim_amount']]\n",
    "y = reduced_df['total_claim_amount']\n",
    "x = reduced_df.drop(['total_claim_amount'], axis=1)\n",
    "lm = LinearRegression().fit (x,y)"
   ]
  },
  {
   "cell_type": "code",
   "execution_count": 31,
   "id": "809c4ea3",
   "metadata": {},
   "outputs": [
    {
     "name": "stdout",
     "output_type": "stream",
     "text": [
      "0.5185218926553223\n"
     ]
    }
   ],
   "source": [
    "print(lm.score(x,y))"
   ]
  },
  {
   "cell_type": "code",
   "execution_count": 32,
   "id": "070edd14",
   "metadata": {},
   "outputs": [
    {
     "name": "stdout",
     "output_type": "stream",
     "text": [
      "65.59567765365705\n",
      "[-6.68541389e-04 -3.29254837e-03  5.34045575e+00]\n"
     ]
    }
   ],
   "source": [
    "print(lm.intercept_)\n",
    "print(lm.coef_)"
   ]
  },
  {
   "cell_type": "code",
   "execution_count": 33,
   "id": "6f152bd8",
   "metadata": {},
   "outputs": [],
   "source": [
    "#Another alternative is trying to predict total claim amount using just the varible with the biggest correlation.\n",
    "x2 = reduced_df[['monthly_premium_auto']]\n",
    "lm2 = LinearRegression().fit (x2,y)"
   ]
  },
  {
   "cell_type": "code",
   "execution_count": 34,
   "id": "9aeff54d",
   "metadata": {},
   "outputs": [
    {
     "name": "stdout",
     "output_type": "stream",
     "text": [
      "0.3994450617021763\n",
      "-63.32929837275776\n",
      "[5.33599955]\n"
     ]
    }
   ],
   "source": [
    "print(lm2.score(x2,y)) #however, the performance of the model lm2 (0.4) is worse than lm (0.52), therefore we will use lm.\n",
    "print(lm2.intercept_)\n",
    "print(lm2.coef_)"
   ]
  },
  {
   "cell_type": "code",
   "execution_count": 35,
   "id": "ac26d026",
   "metadata": {},
   "outputs": [],
   "source": [
    "#Normalize (numerical)."
   ]
  },
  {
   "cell_type": "code",
   "execution_count": 36,
   "id": "e89c7d52",
   "metadata": {},
   "outputs": [
    {
     "data": {
      "text/plain": [
       "array([[0.01062925, 0.56284694, 0.03375527],\n",
       "       [0.06240565, 0.        , 0.13924051],\n",
       "       [0.13495982, 0.48776267, 0.19831224],\n",
       "       ...,\n",
       "       [0.07695057, 0.        , 0.10126582],\n",
       "       [0.06909758, 0.2194517 , 0.14767932],\n",
       "       [0.00876645, 0.        , 0.06751055]])"
      ]
     },
     "metadata": {},
     "output_type": "display_data"
    }
   ],
   "source": [
    "#Normalization using MinMaxScaler\n",
    "from sklearn.preprocessing import MinMaxScaler\n",
    "transformer = MinMaxScaler().fit(x)\n",
    "x_normalized = transformer.transform(x)\n",
    "display(x_normalized)\n",
    "X_norm_df = pd.DataFrame(x_normalized, columns=x.columns) "
   ]
  },
  {
   "cell_type": "code",
   "execution_count": 37,
   "id": "188685a4",
   "metadata": {},
   "outputs": [],
   "source": [
    "#I have decided to use MinMax scaler as the way of normalize the independent variable"
   ]
  },
  {
   "cell_type": "code",
   "execution_count": 38,
   "id": "239e6e05",
   "metadata": {},
   "outputs": [],
   "source": [
    "#HERE STARTS THE LAB CUSTOMER ANALYSIS ROUND 6(CORRECTED)-----------------------------------------------------------------------"
   ]
  },
  {
   "cell_type": "code",
   "execution_count": 39,
   "id": "0f7cd261",
   "metadata": {},
   "outputs": [],
   "source": [
    "#Train-test split.\n",
    "from sklearn.model_selection import train_test_split\n",
    "x_train, x_test, y_train, y_test = train_test_split(X_norm_df, y, test_size=0.2, random_state=42)"
   ]
  },
  {
   "cell_type": "code",
   "execution_count": 40,
   "id": "cc2dc877",
   "metadata": {},
   "outputs": [],
   "source": [
    "#Apply linear regression.\n",
    "lm3 = LinearRegression().fit(x_train,y_train)\n",
    "y_pred_train = lm3.predict(x_train)\n",
    "y_pred_test = lm3.predict(x_test)"
   ]
  },
  {
   "cell_type": "code",
   "execution_count": 41,
   "id": "920ae3dc",
   "metadata": {},
   "outputs": [
    {
     "data": {
      "text/plain": [
       "0.49427417837326715"
      ]
     },
     "execution_count": 41,
     "metadata": {},
     "output_type": "execute_result"
    }
   ],
   "source": [
    "#Model validation with R2:\n",
    "from sklearn.metrics import r2_score\n",
    "r2_score(y_test,y_pred_test)"
   ]
  },
  {
   "cell_type": "code",
   "execution_count": 42,
   "id": "526ac6c0",
   "metadata": {},
   "outputs": [
    {
     "data": {
      "text/plain": [
       "40210.786421068915"
      ]
     },
     "execution_count": 42,
     "metadata": {},
     "output_type": "execute_result"
    }
   ],
   "source": [
    "#Model validation with MSE\n",
    "from sklearn.metrics import mean_squared_error\n",
    "mean_squared_error(y_test,y_pred_test)"
   ]
  },
  {
   "cell_type": "code",
   "execution_count": 43,
   "id": "d4e7d25d",
   "metadata": {},
   "outputs": [
    {
     "data": {
      "text/plain": [
       "200.5262736428045"
      ]
     },
     "execution_count": 43,
     "metadata": {},
     "output_type": "execute_result"
    }
   ],
   "source": [
    "#Model validation with RMSE\n",
    "np.sqrt(mean_squared_error(y_test,y_pred_test))"
   ]
  },
  {
   "cell_type": "code",
   "execution_count": 44,
   "id": "15bf4d66",
   "metadata": {},
   "outputs": [
    {
     "data": {
      "text/plain": [
       "145.30815783274053"
      ]
     },
     "execution_count": 44,
     "metadata": {},
     "output_type": "execute_result"
    }
   ],
   "source": [
    "#Model validation with MAE\n",
    "from sklearn.metrics import mean_absolute_error\n",
    "mean_absolute_error(y_test, y_pred_test)"
   ]
  },
  {
   "cell_type": "code",
   "execution_count": 45,
   "id": "4459af39",
   "metadata": {},
   "outputs": [],
   "source": [
    "#HERE STARTS THE LAB CUSTOMER ANALYSIS ROUND 7----------------------------------------------------------------------------------"
   ]
  },
  {
   "cell_type": "code",
   "execution_count": 46,
   "id": "67bd31fd",
   "metadata": {},
   "outputs": [],
   "source": [
    "#Bonus: build a function, from round 2 and round 7, to clean and process the data.\n",
    "def df_cleaner_lm(df1):\n",
    "    df2 = df1.copy()\n",
    "    column_names = df2.columns\n",
    "    cols = []\n",
    "    for colname in df2.columns:\n",
    "        cols.append(colname.lower().replace(' ', '_'))\n",
    "    df2.columns = cols\n",
    "    #df1 = df1.drop(['vehicle_type'], axis=1)\n",
    "    df2['state'] = df2['state'].fillna('California')\n",
    "    df2['response'] = df2['response'].fillna('No')\n",
    "    df2['months_since_last_claim'] = df2['months_since_last_claim'].fillna(df2['months_since_last_claim'].median())\n",
    "    df2['number_of_open_complaints'] = df2['number_of_open_complaints'].fillna(df2['number_of_open_complaints'].median())\n",
    "    df2['vehicle_class'] = df2['vehicle_class'].fillna(df2['vehicle_class'].mode()[0])\n",
    "    df2['vehicle_size'] = df2['vehicle_size'].fillna(df2['vehicle_size'].mode()[0])\n",
    "    df2['effective_to_date'] = pd.to_datetime(df2['effective_to_date'], errors='coerce')\n",
    "    reduced_df2 = df2[['customer_lifetime_value','income', 'monthly_premium_auto', 'total_claim_amount']]\n",
    "    y_1 = reduced_df2['total_claim_amount']\n",
    "    x_1 = reduced_df2.drop(['total_claim_amount'], axis=1)\n",
    "    lm_1 = LinearRegression().fit (x_1,y_1)\n",
    "    transformer_1 = MinMaxScaler().fit(x_1)\n",
    "    x_normalized_1 = transformer.transform(x_1)\n",
    "    X_norm_df1 = pd.DataFrame(x_normalized_1, columns=x_1.columns)\n",
    "    x_train_1, x_test_1, y_train_1, y_test_1 = train_test_split(X_norm_df1, y_1, test_size=0.2, random_state=42)\n",
    "    lm3_1 = LinearRegression().fit(x_train_1,y_train_1)\n",
    "    y_pred_train_1 = lm3_1.predict(x_train_1)\n",
    "    y_pred_test_1 = lm3_1.predict(x_test_1)\n",
    "    r2 = r2_score(y_test, y_pred_test)\n",
    "    df2_trained = pd.DataFrame(x_train_1, columns=x_train_1.columns)\n",
    "    return df2_trained, 'To predict total claim amount the model used gives back an R2 score of: ', r2"
   ]
  },
  {
   "cell_type": "code",
   "execution_count": 47,
   "id": "26d28b65",
   "metadata": {},
   "outputs": [],
   "source": [
    "df_bonus = pd.read_csv('files_for_lab/csv_files/marketing_customer_analysis.csv', index_col=[0])\n",
    "bonus = df_cleaner_lm(df_bonus)"
   ]
  },
  {
   "cell_type": "code",
   "execution_count": 48,
   "id": "512eb7a8",
   "metadata": {},
   "outputs": [
    {
     "name": "stdout",
     "output_type": "stream",
     "text": [
      "(      customer_lifetime_value    income  monthly_premium_auto\n",
      "5123                 0.035258  0.511537              0.000000\n",
      "7738                 0.011416  0.000000              0.075949\n",
      "214                  0.012464  0.811124              0.054852\n",
      "8580                 0.039793  0.722777              0.012658\n",
      "7857                 0.008748  0.547474              0.021097\n",
      "...                       ...       ...                   ...\n",
      "5734                 0.066763  0.879737              0.000000\n",
      "5191                 0.044223  0.225243              0.050633\n",
      "5390                 0.087130  0.000000              0.286920\n",
      "860                  0.156427  0.000000              0.329114\n",
      "7270                 0.017827  0.781068              0.097046\n",
      "\n",
      "[7307 rows x 3 columns], 'To predict total claim amount the model used gives back an R2 score of: ', 0.49427417837326715)\n"
     ]
    },
    {
     "data": {
      "text/plain": [
       "tuple"
      ]
     },
     "execution_count": 48,
     "metadata": {},
     "output_type": "execute_result"
    }
   ],
   "source": [
    "print(bonus)\n",
    "type(bonus)\n",
    "#I don't know why it returns me a tuple when I have never change the DataFrame and I don't know how to solve it"
   ]
  },
  {
   "cell_type": "code",
   "execution_count": 49,
   "id": "90ac4a9f",
   "metadata": {},
   "outputs": [],
   "source": [
    "#Try to improve the linear regression model\n",
    "#We could try to improve the model applying another transformer before MinMax Scaler."
   ]
  },
  {
   "cell_type": "code",
   "execution_count": 50,
   "id": "a023903b",
   "metadata": {},
   "outputs": [
    {
     "data": {
      "text/html": [
       "<div>\n",
       "<style scoped>\n",
       "    .dataframe tbody tr th:only-of-type {\n",
       "        vertical-align: middle;\n",
       "    }\n",
       "\n",
       "    .dataframe tbody tr th {\n",
       "        vertical-align: top;\n",
       "    }\n",
       "\n",
       "    .dataframe thead th {\n",
       "        text-align: right;\n",
       "    }\n",
       "</style>\n",
       "<table border=\"1\" class=\"dataframe\">\n",
       "  <thead>\n",
       "    <tr style=\"text-align: right;\">\n",
       "      <th></th>\n",
       "      <th>customer_lifetime_value</th>\n",
       "      <th>income</th>\n",
       "      <th>monthly_premium_auto</th>\n",
       "    </tr>\n",
       "  </thead>\n",
       "  <tbody>\n",
       "    <tr>\n",
       "      <th>0</th>\n",
       "      <td>0.010629</td>\n",
       "      <td>0.562847</td>\n",
       "      <td>0.033755</td>\n",
       "    </tr>\n",
       "    <tr>\n",
       "      <th>1</th>\n",
       "      <td>0.062406</td>\n",
       "      <td>0.000000</td>\n",
       "      <td>0.139241</td>\n",
       "    </tr>\n",
       "    <tr>\n",
       "      <th>2</th>\n",
       "      <td>0.134960</td>\n",
       "      <td>0.487763</td>\n",
       "      <td>0.198312</td>\n",
       "    </tr>\n",
       "    <tr>\n",
       "      <th>3</th>\n",
       "      <td>0.070589</td>\n",
       "      <td>0.000000</td>\n",
       "      <td>0.189873</td>\n",
       "    </tr>\n",
       "    <tr>\n",
       "      <th>4</th>\n",
       "      <td>0.011245</td>\n",
       "      <td>0.438443</td>\n",
       "      <td>0.050633</td>\n",
       "    </tr>\n",
       "  </tbody>\n",
       "</table>\n",
       "</div>"
      ],
      "text/plain": [
       "   customer_lifetime_value    income  monthly_premium_auto\n",
       "0                 0.010629  0.562847              0.033755\n",
       "1                 0.062406  0.000000              0.139241\n",
       "2                 0.134960  0.487763              0.198312\n",
       "3                 0.070589  0.000000              0.189873\n",
       "4                 0.011245  0.438443              0.050633"
      ]
     },
     "execution_count": 50,
     "metadata": {},
     "output_type": "execute_result"
    }
   ],
   "source": [
    "from sklearn.preprocessing import PowerTransformer\n",
    "transformer_def1 = PowerTransformer().fit(x) \n",
    "x_pt = transformer.transform(x)\n",
    "x_pt_df = pd.DataFrame(x_pt, columns=x.columns)\n",
    "x_pt_df.head()"
   ]
  },
  {
   "cell_type": "code",
   "execution_count": 51,
   "id": "dd727ca4",
   "metadata": {},
   "outputs": [
    {
     "data": {
      "text/html": [
       "<div>\n",
       "<style scoped>\n",
       "    .dataframe tbody tr th:only-of-type {\n",
       "        vertical-align: middle;\n",
       "    }\n",
       "\n",
       "    .dataframe tbody tr th {\n",
       "        vertical-align: top;\n",
       "    }\n",
       "\n",
       "    .dataframe thead th {\n",
       "        text-align: right;\n",
       "    }\n",
       "</style>\n",
       "<table border=\"1\" class=\"dataframe\">\n",
       "  <thead>\n",
       "    <tr style=\"text-align: right;\">\n",
       "      <th></th>\n",
       "      <th>customer_lifetime_value</th>\n",
       "      <th>income</th>\n",
       "      <th>monthly_premium_auto</th>\n",
       "    </tr>\n",
       "  </thead>\n",
       "  <tbody>\n",
       "    <tr>\n",
       "      <th>0</th>\n",
       "      <td>-0.023309</td>\n",
       "      <td>0.000006</td>\n",
       "      <td>-0.257242</td>\n",
       "    </tr>\n",
       "    <tr>\n",
       "      <th>1</th>\n",
       "      <td>-0.023308</td>\n",
       "      <td>0.000000</td>\n",
       "      <td>-0.256796</td>\n",
       "    </tr>\n",
       "    <tr>\n",
       "      <th>2</th>\n",
       "      <td>-0.023308</td>\n",
       "      <td>0.000005</td>\n",
       "      <td>-0.256547</td>\n",
       "    </tr>\n",
       "    <tr>\n",
       "      <th>3</th>\n",
       "      <td>-0.023308</td>\n",
       "      <td>0.000000</td>\n",
       "      <td>-0.256583</td>\n",
       "    </tr>\n",
       "    <tr>\n",
       "      <th>4</th>\n",
       "      <td>-0.023309</td>\n",
       "      <td>0.000004</td>\n",
       "      <td>-0.257170</td>\n",
       "    </tr>\n",
       "  </tbody>\n",
       "</table>\n",
       "</div>"
      ],
      "text/plain": [
       "   customer_lifetime_value    income  monthly_premium_auto\n",
       "0                -0.023309  0.000006             -0.257242\n",
       "1                -0.023308  0.000000             -0.256796\n",
       "2                -0.023308  0.000005             -0.256547\n",
       "3                -0.023308  0.000000             -0.256583\n",
       "4                -0.023309  0.000004             -0.257170"
      ]
     },
     "execution_count": 51,
     "metadata": {},
     "output_type": "execute_result"
    }
   ],
   "source": [
    "transformer_def2 = MinMaxScaler().fit(x_pt_df)\n",
    "x_ptms = transformer.transform(x_pt_df)\n",
    "x_ptms_df  = pd.DataFrame(x_ptms,  columns=x_pt_df.columns)\n",
    "x_ptms_df.head()"
   ]
  },
  {
   "cell_type": "code",
   "execution_count": 52,
   "id": "a6b2b0ca",
   "metadata": {},
   "outputs": [],
   "source": [
    "x_train_def, x_test_def, y_train_def, y_test_def = train_test_split(x_ptms_df, y, test_size=0.2, random_state=42)\n",
    "\n",
    "lm_def = LinearRegression().fit(x_train_def, y_train_def)\n",
    "y_pred_train_def = lm_def.predict(x_train_def)\n",
    "y_pred_test_def = lm_def.predict(x_test_def)"
   ]
  },
  {
   "cell_type": "code",
   "execution_count": 53,
   "id": "2fbabd78",
   "metadata": {},
   "outputs": [
    {
     "name": "stdout",
     "output_type": "stream",
     "text": [
      "0.49427417837326937\n",
      "40210.78642106874\n",
      "200.52627364280409\n",
      "145.30815783273982\n"
     ]
    }
   ],
   "source": [
    "print(r2_score(y_test_def, y_pred_test_def))\n",
    "print(mean_squared_error(y_test_def, y_pred_test_def))\n",
    "print(np.sqrt(mean_squared_error(y_test_def, y_pred_test_def)))\n",
    "print(mean_absolute_error(y_test_def, y_pred_test_def))"
   ]
  },
  {
   "cell_type": "code",
   "execution_count": 54,
   "id": "d6e17a2f",
   "metadata": {},
   "outputs": [
    {
     "data": {
      "text/plain": [
       "True"
      ]
     },
     "execution_count": 54,
     "metadata": {},
     "output_type": "execute_result"
    }
   ],
   "source": [
    "r2_score(y_test,y_pred_test) < (r2_score(y_test_def, y_pred_test_def)) #I IMPROVE IT!! BUT HONESTLY VERY LITTLE"
   ]
  },
  {
   "cell_type": "code",
   "execution_count": 55,
   "id": "5bdb378d",
   "metadata": {},
   "outputs": [
    {
     "data": {
      "text/plain": [
       "True"
      ]
     },
     "execution_count": 55,
     "metadata": {},
     "output_type": "execute_result"
    }
   ],
   "source": [
    "mean_squared_error(y_test,y_pred_test) > mean_squared_error(y_test_def, y_pred_test_def)"
   ]
  },
  {
   "cell_type": "code",
   "execution_count": 56,
   "id": "6b74b906",
   "metadata": {},
   "outputs": [
    {
     "data": {
      "text/plain": [
       "True"
      ]
     },
     "execution_count": 56,
     "metadata": {},
     "output_type": "execute_result"
    }
   ],
   "source": [
    "np.sqrt(mean_squared_error(y_test,y_pred_test)) > np.sqrt(mean_squared_error(y_test_def, y_pred_test_def))"
   ]
  },
  {
   "cell_type": "code",
   "execution_count": 57,
   "id": "6f7a2011",
   "metadata": {},
   "outputs": [
    {
     "data": {
      "text/plain": [
       "True"
      ]
     },
     "execution_count": 57,
     "metadata": {},
     "output_type": "execute_result"
    }
   ],
   "source": [
    "mean_absolute_error(y_test, y_pred_test) > mean_absolute_error(y_test_def, y_pred_test_def)"
   ]
  }
 ],
 "metadata": {
  "kernelspec": {
   "display_name": "Python 3 (ipykernel)",
   "language": "python",
   "name": "python3"
  },
  "language_info": {
   "codemirror_mode": {
    "name": "ipython",
    "version": 3
   },
   "file_extension": ".py",
   "mimetype": "text/x-python",
   "name": "python",
   "nbconvert_exporter": "python",
   "pygments_lexer": "ipython3",
   "version": "3.9.13"
  }
 },
 "nbformat": 4,
 "nbformat_minor": 5
}
